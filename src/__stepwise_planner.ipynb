{
 "cells": [
  {
   "cell_type": "code",
   "execution_count": 79,
   "metadata": {},
   "outputs": [
    {
     "name": "stdout",
     "output_type": "stream",
     "text": [
      "The plan's steps are:\n",
      "- This is basic chat function, receiving normal conversation and returns the best fit user question, without domain knowledge requirements using ChatScripts-BasicChat with parameters: {'input': 'Give me information of the PetroVietnam'}\n",
      "PetroVietnam, also known as Vietnam Oil and Gas Group, is a state-owned corporation in Vietnam. It is responsible for the exploration, production, and distribution of oil and gas resources in the country. PetroVietnam also engages in various other activities related to the petroleum industry, including refining, petrochemicals, and power generation. The company plays a significant role in the development of Vietnam's energy sector and contributes to the country's economic growth.\n"
     ]
    }
   ],
   "source": [
    "import os, dotenv\n",
    "if '__file__' in globals():\n",
    "    parent_directory = os.path.dirname(os.path.realpath(__file__))\n",
    "else:\n",
    "    parent_directory = os.getcwd()\n",
    "\n",
    "plugin_path = os.path.join(parent_directory, \"plugins/\")\n",
    "\n",
    "from semantic_kernel import Kernel\n",
    "from semantic_kernel.connectors.ai.open_ai import OpenAIChatCompletion\n",
    "from semantic_kernel.planners import FunctionCallingStepwisePlanner, FunctionCallingStepwisePlannerOptions\n",
    "from semantic_kernel.utils.settings import openai_settings_from_dot_env\n",
    "from semantic_kernel.core_plugins import MathPlugin, TimePlugin\n",
    "from llm_prompts import SEQUENTIAL_PLANNER_PROMPT\n",
    "from core.database_connection import Neo4jPlugin\n",
    "dotenv.load_dotenv(dotenv_path='../.env') \n",
    "\n",
    "async def main():\n",
    "    kernel = Kernel()\n",
    "\n",
    "    service_id = \"planner\"\n",
    "    api_key = os.environ.get(\"OPENAI_API_KEY\")\n",
    "    kernel.add_service(\n",
    "        OpenAIChatCompletion(\n",
    "            service_id=service_id,\n",
    "            ai_model_id=\"gpt-3.5-turbo-1106\",\n",
    "            api_key=api_key,\n",
    "        ),\n",
    "    )\n",
    "\n",
    "    kernel.add_plugin(parent_directory=plugin_path, plugin_name=\"ChatScripts\")\n",
    "    kernel.add_plugin(parent_directory=plugin_path, plugin_name=\"CypherProcessing\")\n",
    "    \n",
    "    kernel.add_plugins({\"Neo4jCalling\": Neo4jPlugin()})\n",
    "    \n",
    "    #-Sequential Planner-------------------------------------------\n",
    "    from semantic_kernel.planners import SequentialPlanner\n",
    "    planner = SequentialPlanner(kernel, service_id, prompt=SEQUENTIAL_PLANNER_PROMPT)\n",
    "\n",
    "    #-Questions-------------------------------------------\n",
    "    questions = [\n",
    "        \"Give me information of the PetroVietnam?\",\n",
    "        # \"What is the capial of Singapore?\",\n",
    "        # \"What is the area of Block 16-1/15 from Neo4j Database\",\n",
    "    ]\n",
    "    for q in questions:\n",
    "        # Sequential Planner\n",
    "        sequential_plan = await planner.create_plan(goal=q)\n",
    "        print(\"The plan's steps are:\")\n",
    "        for step in sequential_plan._steps:\n",
    "            print(\n",
    "                f\"- {step.description.replace('.', '') if step.description else 'No description'} using {step.metadata.fully_qualified_name} with parameters: {step.parameters}\"\n",
    "            )\n",
    "        result = await sequential_plan.invoke(kernel)\n",
    "\n",
    "        for res in result.metadata['results']:\n",
    "            if str(type(res.value)) == \"<class 'neo4j._work.eager_result.EagerResult'>\":\n",
    "                try:\n",
    "                    print(res.value[0][0])\n",
    "                except Exception as e:\n",
    "                    print(e)\n",
    "            if type(res.value) == list:\n",
    "                print(res.value[0].inner_content.choices[0].message.content)\n",
    "\n",
    "        return (result.metadata)\n",
    "\n",
    "plugins = await main()\n"
   ]
  },
  {
   "cell_type": "code",
   "execution_count": 2,
   "metadata": {},
   "outputs": [],
   "source": [
    "# Stepwise Function Calling\n",
    "#--------------------------------------------\n",
    "# options = FunctionCallingStepwisePlannerOptions(\n",
    "#     max_iterations=10,\n",
    "#     max_tokens=4000,\n",
    "# )\n",
    "# planner = FunctionCallingStepwisePlanner(service_id=service_id, options=options)\n",
    "# for q in questions:\n",
    "    # Stepwise Planner\n",
    "    # result = await planner.invoke(kernel, q)\n",
    "    # print(f\"Q: {q}\\nA: {result.final_answer}\\n\")\n",
    "\n",
    "    # Uncomment the following line to view the planner's process for completing the request\n",
    "    # print(f\"\\nChat history: {result.chat_history}\\n\")"
   ]
  },
  {
   "cell_type": "code",
   "execution_count": null,
   "metadata": {},
   "outputs": [],
   "source": []
  }
 ],
 "metadata": {
  "kernelspec": {
   "display_name": "booksage",
   "language": "python",
   "name": "python3"
  },
  "language_info": {
   "codemirror_mode": {
    "name": "ipython",
    "version": 3
   },
   "file_extension": ".py",
   "mimetype": "text/x-python",
   "name": "python",
   "nbconvert_exporter": "python",
   "pygments_lexer": "ipython3",
   "version": "3.11.5"
  }
 },
 "nbformat": 4,
 "nbformat_minor": 2
}
